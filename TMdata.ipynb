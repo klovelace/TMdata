{
 "cells": [
  {
   "cell_type": "code",
   "execution_count": 1,
   "metadata": {},
   "outputs": [],
   "source": [
    "import pandas as pd"
   ]
  },
  {
   "cell_type": "code",
   "execution_count": 2,
   "metadata": {},
   "outputs": [],
   "source": [
    "import ipystata"
   ]
  },
  {
   "cell_type": "markdown",
   "metadata": {},
   "source": [
    "### Import the dataset"
   ]
  },
  {
   "cell_type": "markdown",
   "metadata": {},
   "source": [
    "Load all of the STATA data files (.dta)and merge on country_id (the unique contry code identifier) and year.  AFter the merge drop all observations prior to 2006"
   ]
  },
  {
   "cell_type": "code",
   "execution_count": 3,
   "metadata": {
    "scrolled": true
   },
   "outputs": [
    {
     "name": "stdout",
     "output_type": "stream",
     "text": [
      "\n",
      "file C:\\Users\\klove\\OneDrive\\Documents\\USAID\\transition metrics\\libdemVdem.dt\n",
      "    Result                           # of obs.\n",
      "    -----------------------------------------\n",
      "    not matched                         1,652\n",
      "        from master                     1,512  (_merge==1)\n",
      "        from using                        140  (_merge==2)\n",
      "\n",
      "    matched                               398  (_merge==3)\n",
      "    -----------------------------------------\n",
      "\n",
      "    Result                           # of obs.\n",
      "    -----------------------------------------\n",
      "    not matched                           846\n",
      "        from master                       278  (_merge==1)\n",
      "        from using                        568  (_merge==2)\n",
      "\n",
      "    matched                             1,772  (_merge==3)\n",
      "    -----------------------------------------\n",
      "\n",
      "    Result                           # of obs.\n",
      "    -----------------------------------------\n",
      "    not matched                         1,680\n",
      "        from master                        25  (_merge==1)\n",
      "        from using                      1,655  (_merge==2)\n",
      "\n",
      "    matched                             2,593  (_merge==3)\n",
      "    -----------------------------------------\n",
      "\n",
      "    Result                           # of obs.\n",
      "    -----------------------------------------\n",
      "    not matched                         2,634\n",
      "        from master                     2,634  (_merge==1)\n",
      "        from using                          0  (_merge==2)\n",
      "\n",
      "    matched                             1,639  (_merge==3)\n",
      "    -----------------------------------------\n",
      "\n",
      "    Result                           # of obs.\n",
      "    -----------------------------------------\n",
      "    not matched                         2,634\n",
      "        from master                     2,634  (_merge==1)\n",
      "        from using                          0  (_merge==2)\n",
      "\n",
      "    matched                             1,639  (_merge==3)\n",
      "    -----------------------------------------\n",
      "\n",
      "    Result                           # of obs.\n",
      "    -----------------------------------------\n",
      "    not matched                         2,364\n",
      "        from master                     2,364  (_merge==1)\n",
      "        from using                          0  (_merge==2)\n",
      "\n",
      "    matched                             1,909  (_merge==3)\n",
      "    -----------------------------------------\n",
      "\n",
      "    Result                           # of obs.\n",
      "    -----------------------------------------\n",
      "    not matched                         2,363\n",
      "        from master                     2,363  (_merge==1)\n",
      "        from using                          0  (_merge==2)\n",
      "\n",
      "    matched                             1,910  (_merge==3)\n",
      "    -----------------------------------------\n",
      "\n",
      "    Result                           # of obs.\n",
      "    -----------------------------------------\n",
      "    not matched                         2,949\n",
      "        from master                     2,949  (_merge==1)\n",
      "        from using                          0  (_merge==2)\n",
      "\n",
      "    matched                             1,324  (_merge==3)\n",
      "    -----------------------------------------\n",
      "\n",
      "    Result                           # of obs.\n",
      "    -----------------------------------------\n",
      "    not matched                         2,127\n",
      "        from master                     2,121  (_merge==1)\n",
      "        from using                          6  (_merge==2)\n",
      "\n",
      "    matched                             2,152  (_merge==3)\n",
      "    -----------------------------------------\n",
      "\n",
      "    Result                           # of obs.\n",
      "    -----------------------------------------\n",
      "    not matched                         3,147\n",
      "        from master                     3,147  (_merge==1)\n",
      "        from using                          0  (_merge==2)\n",
      "\n",
      "    matched                             1,132  (_merge==3)\n",
      "    -----------------------------------------\n",
      "\n",
      "    Result                           # of obs.\n",
      "    -----------------------------------------\n",
      "    not matched                         2,527\n",
      "        from master                     2,344  (_merge==1)\n",
      "        from using                        183  (_merge==2)\n",
      "\n",
      "    matched                             1,935  (_merge==3)\n",
      "    -----------------------------------------\n",
      "\n",
      "    Result                           # of obs.\n",
      "    -----------------------------------------\n",
      "    not matched                         3,944\n",
      "        from master                     3,941  (_merge==1)\n",
      "        from using                          3  (_merge==2)\n",
      "\n",
      "    matched                               521  (_merge==3)\n",
      "    -----------------------------------------\n",
      "\n",
      "    Result                           # of obs.\n",
      "    -----------------------------------------\n",
      "    not matched                         2,958\n",
      "        from master                     2,958  (_merge==1)\n",
      "        from using                          0  (_merge==2)\n",
      "\n",
      "    matched                             1,507  (_merge==3)\n",
      "    -----------------------------------------\n",
      "\n",
      "    Result                           # of obs.\n",
      "    -----------------------------------------\n",
      "    not matched                         2,388\n",
      "        from master                     2,388  (_merge==1)\n",
      "        from using                          0  (_merge==2)\n",
      "\n",
      "    matched                             2,077  (_merge==3)\n",
      "    -----------------------------------------\n",
      "\n",
      "    Result                           # of obs.\n",
      "    -----------------------------------------\n",
      "    not matched                         3,614\n",
      "        from master                     3,614  (_merge==1)\n",
      "        from using                          0  (_merge==2)\n",
      "\n",
      "    matched                               851  (_merge==3)\n",
      "    -----------------------------------------\n",
      "\n",
      "    Result                           # of obs.\n",
      "    -----------------------------------------\n",
      "    not matched                         1,744\n",
      "        from master                     1,378  (_merge==1)\n",
      "        from using                        366  (_merge==2)\n",
      "\n",
      "    matched                             3,087  (_merge==3)\n",
      "    -----------------------------------------\n",
      "\n",
      "(1,784 observations deleted)\n",
      "\n"
     ]
    }
   ],
   "source": [
    "%%stata\n",
    "use \"C:\\Users\\klove\\OneDrive\\Documents\\USAID\\transition metrics\\libdemVdem.dta\", clear\n",
    "sort country_id year\n",
    "save \"C:\\Users\\klove\\OneDrive\\Documents\\USAID\\transition metrics\\libdemVdem.dta\", replace\n",
    "merge 1:1 year country_id using \"C:\\Users\\klove\\OneDrive\\Documents\\USAID\\transition metrics\\ipd for merge.dta\"\n",
    "rename _merge _mergeIPD\n",
    "merge 1:1 year country_id using \"C:\\Users\\klove\\OneDrive\\Documents\\USAID\\transition metrics\\GDPpppfilledin.dta\"\n",
    "rename _merge _mergeGDP\n",
    "merge 1:1 year country_id using \"C:\\Users\\klove\\OneDrive\\Documents\\USAID\\transition metrics\\biohabYale.dta\"\n",
    "rename _merge _mergeBioHab\n",
    "merge 1:1 year country_id using \"C:\\Users\\klove\\OneDrive\\Documents\\USAID\\transition metrics\\safetysecLegatum.dta\"\n",
    "rename _merge _mergeSafeSecure\n",
    "merge 1:1 year country_id using \"C:\\Users\\klove\\OneDrive\\Documents\\USAID\\transition metrics\\busenvLegatum.dta\"\n",
    "rename _merge _mergeBusEnv\n",
    "merge 1:1 year country_id using \"C:\\Users\\klove\\OneDrive\\Documents\\USAID\\transition metrics\\diagaccVdem.dta\"\n",
    "rename _merge _mergeDiagAcc\n",
    "merge 1:1 year country_id using \"C:\\Users\\klove\\OneDrive\\Documents\\USAID\\transition metrics\\socialgroupVdem.dta\"\n",
    "rename _merge _mergeSociGE\n",
    "merge 1:1 year country_id using \"C:\\Users\\klove\\OneDrive\\Documents\\USAID\\transition metrics\\childhealthCIESIN.dta\"\n",
    "rename _merge _mergeChildHealth\n",
    "merge 1:1 year country_id using \"C:\\Users\\klove\\OneDrive\\Documents\\USAID\\transition metrics\\exportconUNCTAD.dta\"\n",
    "rename _merge _mergeExpCon\n",
    "merge 1:1 year country_id using \"C:\\Users\\klove\\OneDrive\\Documents\\USAID\\transition metrics\\ictWEF.dta\"\n",
    "rename _merge _mergeICT\n",
    "merge 1:1 year country_id using \"C:\\Users\\klove\\OneDrive\\Documents\\USAID\\transition metrics\\tradefreedomHF.dta\"\n",
    "rename _merge _mergeTF\n",
    "merge 1:1 year country_id using \"C:\\Users\\klove\\OneDrive\\Documents\\USAID\\transition metrics\\ogWJP.dta\"\n",
    "rename _merge _mergeOG\n",
    "merge 1:1 year country_id using \"C:\\Users\\klove\\OneDrive\\Documents\\USAID\\transition metrics\\gggWEF.dta\"\n",
    "rename _merge _mergeGGG\n",
    "merge 1:1 year country_id using \"C:\\Users\\klove\\OneDrive\\Documents\\USAID\\transition metrics\\education for merge.dta\"\n",
    "rename _merge _mergeEd\n",
    "merge 1:1 year country_id using \"C:\\Users\\klove\\OneDrive\\Documents\\USAID\\transition metrics\\povert5dayPovCal.dta\"\n",
    "rename _merge _mergePoverty  \n",
    "merge 1:1 year country_id using \"C:\\Users\\klove\\OneDrive\\Documents\\USAID\\transition metrics\\GovEff for merge.dta\"\n",
    "rename _merge _mergeGoveEff\n",
    "drop income_group iso_code mrr region country_name _fillin\n",
    "drop if year <2006\n",
    "sort country_id year\n"
   ]
  },
  {
   "cell_type": "markdown",
   "metadata": {},
   "source": [
    "Make the dataset square and balanced (one observation per country for all years) then drop the fillin indicator"
   ]
  },
  {
   "cell_type": "code",
   "execution_count": 4,
   "metadata": {},
   "outputs": [],
   "source": [
    "%%stata\n",
    "fillin country_id year\n",
    "drop _fillin"
   ]
  },
  {
   "cell_type": "markdown",
   "metadata": {},
   "source": [
    "Fill in country-years without observations with previous-year country data until a new observation or until the end of the dataset."
   ]
  },
  {
   "cell_type": "code",
   "execution_count": 5,
   "metadata": {
    "scrolled": true
   },
   "outputs": [
    {
     "name": "stdout",
     "output_type": "stream",
     "text": [
      "\n",
      "biohabfwd:  (180 real changes made)\n",
      "\n",
      "busenvfwd:  (149 real changes made)\n",
      "\n",
      "libdemvdemfwd:  (174 real changes made)\n",
      "\n",
      "idpfwd:  (1166 real changes made)\n",
      "\n",
      "gdppppfwd:  (427 real changes made)\n",
      "\n",
      "safetyseclegatumfwd:  (149 real changes made)\n",
      "\n",
      "diagaccvdemfwd:  (175 real changes made)\n",
      "\n",
      "socialgroupvdemfwd:  (174 real changes made)\n",
      "\n",
      "childhealthciesinfwd:  (380 real changes made)\n",
      "\n",
      "expconunctadfwd:  (458 real changes made)\n",
      "\n",
      "ictweffwd:  (207 real changes made)\n",
      "\n",
      "tradefreedomhffwd:  (7 real changes made)\n",
      "\n",
      "ogwjpfwd:  (113 real changes made)\n",
      "\n",
      "gggweffwd:  (180 real changes made)\n",
      "\n",
      "educationfwd:  (267 real changes made)\n",
      "\n",
      "govefffwd:  (390 real changes made)\n",
      "\n",
      "headcountfwd:  (969 real changes made)\n",
      "\n"
     ]
    }
   ],
   "source": [
    "%%stata\n",
    "sort country_id year\n",
    "by country_id: carryforward biohab, gen(biohabfwd)\n",
    "by country_id: carryforward busenvlegatum , gen(busenvfwd)\n",
    "by country_id: carryforward libdemvdem , gen(libdemvdemfwd)\n",
    "by country_id: carryforward ipd , gen(idpfwd)\n",
    "by country_id: carryforward gdpppp, gen(gdppppfwd)\n",
    "by country_id: carryforward safetyseclegatum , gen( safetyseclegatumfwd )\n",
    "by country_id: carryforward diagaccvdem , gen( diagaccvdemfwd )\n",
    "by country_id: carryforward socialgroupvdem , gen( socialgroupvdemfwd )\n",
    "by country_id: carryforward childhealthciesin , gen( childhealthciesinfwd )\n",
    "by country_id: carryforward expconunctad , gen( expconunctadfwd )\n",
    "by country_id: carryforward ictwef , gen( ictweffwd )\n",
    "by country_id: carryforward tradefreedomhf, gen( tradefreedomhffwd )\n",
    "by country_id: carryforward ogwjp, gen( ogwjpfwd )\n",
    "by country_id: carryforward gggwef, gen(gggweffwd )\n",
    "by country_id: carryforward education , gen(educationfwd)\n",
    "by country_id: carryforward goveff , gen(govefffwd)\n",
    "by country_id: carryforward headcount , gen(headcountfwd)"
   ]
  },
  {
   "cell_type": "markdown",
   "metadata": {},
   "source": [
    "Sort the combined dataset in decending order by year (i.e. -year) to facilitate filling years prior to the first observation (i..e. carrybackward)"
   ]
  },
  {
   "cell_type": "code",
   "execution_count": 6,
   "metadata": {},
   "outputs": [],
   "source": [
    "%%stata\n",
    "gsort country_id -year"
   ]
  },
  {
   "cell_type": "code",
   "execution_count": 7,
   "metadata": {},
   "outputs": [
    {
     "name": "stdout",
     "output_type": "stream",
     "text": [
      "biohabfill:  (0 real changes made)\n",
      "\n",
      "educationfill:  (532 real changes made)\n",
      "\n",
      "headcountfill:  (246 real changes made)\n",
      "\n",
      "gdppppfill:  (18 real changes made)\n",
      "\n",
      "govefffill:  (8 real changes made)\n",
      "\n",
      "ipdfill:  (310 real changes made)\n",
      "\n",
      "busenvfill:  (149 real changes made)\n",
      "\n",
      "childhealthfill:  (766 real changes made)\n",
      "\n",
      "diagaccvdemfill:  (178 real changes made)\n",
      "\n",
      "expconunctadfill:  (231 real changes made)\n",
      "\n",
      "gggweffill:  (250 real changes made)\n",
      "\n",
      "ictweffill:  (637 real changes made)\n",
      "\n",
      "libdemvdemfill:  (178 real changes made)\n",
      "\n",
      "opwjpfill:  (832 real changes made)\n",
      "\n",
      "safetyseclegatumfill:  (149 real changes made)\n",
      "\n",
      "socialgroupvdemfill:  (178 real changes made)\n",
      "\n",
      "tradefreedomhffill:  (267 real changes made)\n",
      "\n"
     ]
    }
   ],
   "source": [
    "%%stata\n",
    "by country_id: carryforward biohabfwd , gen(biohabfill)\n",
    "by country_id: carryforward educationfwd , gen(educationfill)\n",
    "by country_id: carryforward headcountfwd , gen(headcountfill)\n",
    "by country_id: carryforward gdppppfwd , gen(gdppppfill)\n",
    "by country_id: carryforward govefffwd , gen(govefffill)\n",
    "by country_id: carryforward idpfwd , gen(ipdfill)\n",
    "by country_id: carryforward busenvfwd , gen(busenvfill)\n",
    "by country_id: carryforward childhealthciesinfwd , gen(childhealthfill)\n",
    "by country_id: carryforward diagaccvdemfwd , gen(diagaccvdemfill)\n",
    "by country_id: carryforward expconunctadfwd , gen(expconunctadfill)\n",
    "by country_id: carryforward gggweffwd , gen(gggweffill)\n",
    "by country_id: carryforward ictweffwd , gen(ictweffill)\n",
    "by country_id: carryforward libdemvdemfwd , gen(libdemvdemfill)\n",
    "by country_id: carryforward ogwjpfwd , gen(opwjpfill)\n",
    "by country_id: carryforward safetyseclegatumfwd , gen(safetyseclegatumfill)\n",
    "by country_id: carryforward socialgroupvdemfwd , gen(socialgroupvdemfill)\n",
    "by country_id: carryforward tradefreedomhffwd , gen(tradefreedomhffill)"
   ]
  },
  {
   "cell_type": "markdown",
   "metadata": {},
   "source": [
    "Change North Koreas trade freedom scores from 0 to 30 to remove the outligher from the dataset and aid in standerdization"
   ]
  },
  {
   "cell_type": "code",
   "execution_count": 8,
   "metadata": {},
   "outputs": [
    {
     "name": "stdout",
     "output_type": "stream",
     "text": [
      "(13 real changes made)\n",
      "\n"
     ]
    }
   ],
   "source": [
    "%%stata\n",
    "replace tradefreedomhffill = 30 if country_id == 408"
   ]
  },
  {
   "cell_type": "markdown",
   "metadata": {},
   "source": [
    "Log GDP per capita (ln)"
   ]
  },
  {
   "cell_type": "code",
   "execution_count": 9,
   "metadata": {},
   "outputs": [
    {
     "name": "stdout",
     "output_type": "stream",
     "text": [
      "(585 missing values generated)\n",
      "\n"
     ]
    }
   ],
   "source": [
    "%%stata\n",
    "gen lngdppp=ln(gdppppfill)"
   ]
  },
  {
   "cell_type": "markdown",
   "metadata": {},
   "source": [
    "Remove observations prior to 2010 to establish 2010-most current ovservation min-maxing"
   ]
  },
  {
   "cell_type": "code",
   "execution_count": 10,
   "metadata": {},
   "outputs": [
    {
     "name": "stdout",
     "output_type": "stream",
     "text": [
      "(960 observations deleted)\n",
      "\n"
     ]
    }
   ],
   "source": [
    "%%stata\n",
    "drop if year < 2010"
   ]
  },
  {
   "cell_type": "markdown",
   "metadata": {},
   "source": [
    "Put all of the indicators on a \"0-1\" scale using $x_{rescaled}=\\frac{x-x_{min}}{x_{max} -x_{min}} $"
   ]
  },
  {
   "cell_type": "code",
   "execution_count": 11,
   "metadata": {
    "scrolled": true
   },
   "outputs": [],
   "source": [
    "%%stata\n",
    "norm biohabfill- lngdppp , method(mmx)"
   ]
  },
  {
   "cell_type": "markdown",
   "metadata": {},
   "source": [
    "Reverse the directionality of those indicators where higher numbers are not positively correlated with capacity or commitment"
   ]
  },
  {
   "cell_type": "code",
   "execution_count": 12,
   "metadata": {},
   "outputs": [
    {
     "name": "stdout",
     "output_type": "stream",
     "text": [
      "(783 missing values generated)\n",
      "\n",
      "(189 missing values generated)\n",
      "\n"
     ]
    }
   ],
   "source": [
    "%%stata\n",
    "gen mmx_headcountdirected =1- mmx_headcountfill\n",
    "gen mmx_expconddirected =1- mmx_expconunctadfill"
   ]
  },
  {
   "cell_type": "markdown",
   "metadata": {},
   "source": [
    "Reorder the variables to faciliate performing batch stata comands (e.g. for $var_1-var_X$)"
   ]
  },
  {
   "cell_type": "code",
   "execution_count": 13,
   "metadata": {},
   "outputs": [],
   "source": [
    "%%stata\n",
    "order _mergeIPD _mergeGDP _mergeBioHab _mergeSafeSecure _mergeBusEnv _mergeDiagAcc _mergeSociGE _mergeChildHealth _mergeExpCon _mergeICT _mergeTF _mergeOG _mergeGGG _mergeEd _mergePoverty _mergeGoveEff country_id year libdemvdem ipd gdpppp biohab safetyseclegatum busenvlegatum diagaccvdem socialgroupvdem childhealthciesin expconunctad ictwef tradefreedomhf ogwjp gggwef education headcount goveff biohabfwd busenvfwd libdemvdemfwd idpfwd gdppppfwd safetyseclegatumfwd diagaccvdemfwd socialgroupvdemfwd childhealthciesinfwd expconunctadfwd ictweffwd tradefreedomhffwd ogwjpfwd gggweffwd educationfwd govefffwd headcountfwd biohabfill educationfill headcountfill gdppppfill govefffill ipdfill busenvfill childhealthfill diagaccvdemfill expconunctadfill gggweffill ictweffill libdemvdemfill opwjpfill safetyseclegatumfill socialgroupvdemfill tradefreedomhffill mmx_gdppppfill mmx_headcountfill mmx_expconunctadfill lngdppp mmx_libdemvdemfill mmx_opwjpfill mmx_socialgroupvdemfill mmx_gggweffill mmx_busenvfill mmx_tradefreedomhffill mmx_biohabfill mmx_govefffill mmx_ipdfill mmx_safetyseclegatumfill mmx_diagaccvdemfill mmx_headcountdirected mmx_educationfill mmx_childhealthfill mmx_lngdppp mmx_expconddirected mmx_ictweffill"
   ]
  },
  {
   "cell_type": "markdown",
   "metadata": {},
   "source": [
    "Determine the number of metric observations available for each country year for each deminsion (capacity & commitment)"
   ]
  },
  {
   "cell_type": "code",
   "execution_count": 14,
   "metadata": {},
   "outputs": [],
   "source": [
    "%%stata\n",
    "egen capacitymissing=rowmiss( mmx_govefffill- mmx_ictweffill)\n",
    "egen commitmissing=rowmiss( mmx_libdemvdemfill - mmx_biohabfill )"
   ]
  },
  {
   "cell_type": "markdown",
   "metadata": {},
   "source": [
    "For all country years with at least 6 (out of 10) observations in the capacity demension, create a simple average from those demensions as the overall Capacity score.\n",
    "For all country years with at least 5 (out of 7) observations in the commitment demension, create a simple average from those demensions as the overall Commitment score."
   ]
  },
  {
   "cell_type": "code",
   "execution_count": 15,
   "metadata": {
    "scrolled": true
   },
   "outputs": [
    {
     "name": "stdout",
     "output_type": "stream",
     "text": [
      "(630 missing values generated)\n",
      "\n",
      "(630 missing values generated)\n",
      "\n"
     ]
    }
   ],
   "source": [
    "%%stata\n",
    "egen capacity=rmean( mmx_govefffill- mmx_ictweffill )if capacitymissing < 5\n",
    "egen commitment=rmean( mmx_libdemvdemfill - mmx_biohabfill )if commitmissing < 4"
   ]
  },
  {
   "cell_type": "markdown",
   "metadata": {},
   "source": [
    "Save it an check it!!"
   ]
  }
 ],
 "metadata": {
  "kernelspec": {
   "display_name": "Python 3",
   "language": "python",
   "name": "python3"
  },
  "language_info": {
   "codemirror_mode": {
    "name": "ipython",
    "version": 3
   },
   "file_extension": ".py",
   "mimetype": "text/x-python",
   "name": "python",
   "nbconvert_exporter": "python",
   "pygments_lexer": "ipython3",
   "version": "3.6.4"
  }
 },
 "nbformat": 4,
 "nbformat_minor": 2
}
